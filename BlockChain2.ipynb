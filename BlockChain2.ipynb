{
  "nbformat": 4,
  "nbformat_minor": 0,
  "metadata": {
    "colab": {
      "provenance": []
    },
    "kernelspec": {
      "name": "python3",
      "display_name": "Python 3"
    },
    "language_info": {
      "name": "python"
    }
  },
  "cells": [
    {
      "cell_type": "markdown",
      "source": [
        "**Donatus Leo**\n",
        "**23.55.1432**"
      ],
      "metadata": {
        "id": "gcoi0oBaGPH0"
      }
    },
    {
      "cell_type": "code",
      "execution_count": null,
      "metadata": {
        "id": "0FqgEEYg8WRb"
      },
      "outputs": [],
      "source": [
        "# import libraries\n",
        "import hashlib\n",
        "import random # untuk menghasilkan angka acak\n",
        "import string\n",
        "import json # Mengimport modul json untuk manipulasi data JSON\n",
        "import binascii\n",
        "import numpy as np\n",
        "import pandas as pd\n",
        "import pylab as pl\n",
        "import logging\n",
        "import datetime\n",
        "import collections"
      ]
    },
    {
      "cell_type": "code",
      "source": [
        "# Install paket pycryptodome\n",
        "!pip3 install pycryptodome"
      ],
      "metadata": {
        "colab": {
          "base_uri": "https://localhost:8080/"
        },
        "id": "io2dI2h79JIj",
        "outputId": "6a701521-a12d-49d2-b593-6ef1fbabdd0b"
      },
      "execution_count": null,
      "outputs": [
        {
          "output_type": "stream",
          "name": "stdout",
          "text": [
            "Collecting pycryptodome\n",
            "  Downloading pycryptodome-3.19.0-cp35-abi3-manylinux_2_17_x86_64.manylinux2014_x86_64.whl (2.1 MB)\n",
            "\u001b[2K     \u001b[90m━━━━━━━━━━━━━━━━━━━━━━━━━━━━━━━━━━━━━━━━\u001b[0m \u001b[32m2.1/2.1 MB\u001b[0m \u001b[31m10.1 MB/s\u001b[0m eta \u001b[36m0:00:00\u001b[0m\n",
            "\u001b[?25hInstalling collected packages: pycryptodome\n",
            "Successfully installed pycryptodome-3.19.0\n"
          ]
        }
      ]
    },
    {
      "cell_type": "code",
      "source": [
        "import binascii\n",
        "import Crypto\n",
        "import Crypto.Random\n",
        "from Crypto.Hash import SHA\n",
        "from Crypto.PublicKey import RSA\n",
        "from Crypto.Signature import PKCS1_v1_5"
      ],
      "metadata": {
        "id": "AbzhTaIMC_t2"
      },
      "execution_count": null,
      "outputs": []
    },
    {
      "cell_type": "code",
      "source": [
        "# class client\n",
        "class Client:\n",
        "    def __init__(self):\n",
        "        random=Crypto.Random.new().read\n",
        "        self._private_key=RSA.generate(1024,random)\n",
        "        self._public_key=self._private_key.publickey()\n",
        "        self._signer=PKCS1_v1_5.new(self._private_key)\n",
        "\n",
        "# The generated public key will used as the client's identity\n",
        "# it returns HEX representation of the public key\n",
        "\n",
        "    @property\n",
        "    def identity(self): # Implementasi fungsi identity\n",
        "        return binascii.hexlify(self._public_key.exportKey(format='DER')).decode('ascii')"
      ],
      "metadata": {
        "id": "l-_bemNj9wxy"
      },
      "execution_count": null,
      "outputs": []
    },
    {
      "cell_type": "code",
      "source": [
        "Anton = Client() # Membuat objek klien dengan nama Anton\n",
        "print (Anton.identity) # Mencetak identitas dari objek Anton"
      ],
      "metadata": {
        "id": "akRW2dD816Jt",
        "colab": {
          "base_uri": "https://localhost:8080/"
        },
        "outputId": "8bc3c046-cc57-4bec-e898-5647f602f89b"
      },
      "execution_count": null,
      "outputs": [
        {
          "output_type": "stream",
          "name": "stdout",
          "text": [
            "30819f300d06092a864886f70d010101050003818d0030818902818100d1188d6c8a4a3e59e198b1667db5a3d9db9d04df621e7fe11bef33f2f4909b44bf75017ef252a9d20229755c918bc9bc72cf97990b7b9befe1a0a6f4be03bb6060c4fd56dec8f92f0cfce59a281a56ad20456f8251820fdf7f33165bd75bce31aec943ea7e22f33fbaf7a40462f1293e72c5bc40b6c38e6ec2f3fb89fd6499bb0203010001\n"
          ]
        }
      ]
    },
    {
      "cell_type": "code",
      "source": [
        "# Kelas Transaksi, klien akan mengirim uang ke seseorang\n",
        "transactions = []\n",
        "last_block_hash=\"\"\n",
        "\n",
        "class Transaction:\n",
        "\n",
        "    def __init__(self, sender,recipient, value):\n",
        "        # senders public key\n",
        "        self.sender=sender\n",
        "\n",
        "        #Recivers public key\n",
        "        self.recipient=recipient\n",
        "\n",
        "        # Amount to be sent\n",
        "        self.value=value\n",
        "\n",
        "        # Time of Transaction\n",
        "        self.time=datetime.datetime.now()\n",
        "\n",
        " # Kombinasi keempat variabel ke objek\n",
        "    def to_dict(self):\n",
        "        if self.sender==\"Genesis\":\n",
        "            identity=\"Genesis\"\n",
        "\n",
        "        else:\n",
        "            identity=self.sender.identity\n",
        "\n",
        "       # Construct the dictionary\n",
        "        return collections.OrderedDict({'sender': identity,'recipient': self.recipient,'value': self.value,'time' : self.time})\n",
        "\n",
        "      # We sign the dictionary object using the private key of the sender\n",
        "    def sign_transaction(self):\n",
        "        private_key = self.sender._private_key\n",
        "        signer = PKCS1_v1_5.new(private_key)\n",
        "        h = SHA.new(str(self.to_dict()).encode('utf8'))\n",
        "\n",
        "        return binascii.hexlify(signer.sign(h)).decode('ascii')\n",
        "\n",
        "\n",
        "def display_transaction(transaction):\n",
        "         #for transaction in transactions:\n",
        "        dict = transaction.to_dict()\n",
        "        print (\"sender: \" + dict['sender'])\n",
        "        print ('-----')\n",
        "        print (\"recipient: \" + dict['recipient'])\n",
        "        print ('-----')\n",
        "        print (\"value: \" + str(dict['value']))\n",
        "        print ('-----')\n",
        "        print (\"time: \" + str(dict['time']))\n",
        "        print ('-----')"
      ],
      "metadata": {
        "id": "WdhiYdrx99kA"
      },
      "execution_count": null,
      "outputs": []
    },
    {
      "cell_type": "code",
      "source": [
        "# Test Transaction class\n",
        "Gerry = Client()\n",
        "dini = Client()\n",
        "\n",
        "# Gerry send 9 TPC coins to  dini\n",
        "t = Transaction(Gerry,dini.identity,9.0)\n",
        "\n",
        "signature = t.sign_transaction()\n",
        "print (signature)"
      ],
      "metadata": {
        "colab": {
          "base_uri": "https://localhost:8080/"
        },
        "id": "14BSTkc6-cbt",
        "outputId": "06ef8a4e-ef98-40f3-e605-a7b36d844783"
      },
      "execution_count": null,
      "outputs": [
        {
          "output_type": "stream",
          "name": "stdout",
          "text": [
            "918b173abced7994958ad5538081e9f51030b8516a66f79c3ae47df494b412c103f06409ddadd10c42dfc228a158fb2c1c6f171eb6162a420b5589937dd835239f20463a0b86c264b73feba02ef58823ea3801e2dd707a2a7cabdc66c3d59e2cabad1b227938789d8303fed42921e6a086f015710522c530cbeadc1ec73c3344\n"
          ]
        }
      ]
    },
    {
      "cell_type": "code",
      "source": [
        "Robert = Client()\n",
        "gerry = Client()\n",
        "Dini = Client()\n",
        "Budi = Client()\n",
        "\n",
        "t1 = Transaction(Robert,Dini.identity,17.0)\n",
        "t1.sign_transaction()\n",
        "transactions.append(t1)\n",
        "\n",
        "t2 = Transaction(Dini,Budi.identity,8.0)\n",
        "t2.sign_transaction()\n",
        "transactions.append(t2)\n",
        "\n",
        "t3 = Transaction(gerry,Dini.identity,3.0)\n",
        "t3.sign_transaction()\n",
        "transactions.append(t3)\n",
        "\n",
        "t4 = Transaction(gerry,Budi.identity,5.0)\n",
        "t4.sign_transaction()\n",
        "transactions.append(t4)\n",
        "\n",
        "t5 = Transaction(Robert,Budi.identity,9.0)\n",
        "t5.sign_transaction()\n",
        "transactions.append(t5)"
      ],
      "metadata": {
        "id": "C6i2kJwD-gs1"
      },
      "execution_count": null,
      "outputs": []
    },
    {
      "cell_type": "code",
      "source": [
        "for transaction in transactions:\n",
        "    display_transaction(transaction)\n",
        "    print ('--------------')"
      ],
      "metadata": {
        "id": "YDJsYrA8-l30",
        "colab": {
          "base_uri": "https://localhost:8080/"
        },
        "outputId": "5a89925a-6f8b-44fd-ed5b-4c971f71709a"
      },
      "execution_count": null,
      "outputs": [
        {
          "output_type": "stream",
          "name": "stdout",
          "text": [
            "sender: 30819f300d06092a864886f70d010101050003818d0030818902818100c03085d806303a673f5af2706475c7b390dd44398d6dd5199de1b7c745f4fcbb95d5856f2d03b54fca236c89af442fc9ee9727c254bca07b911457cf1332928658fd8b1d7f0d767e444150d43306097cad16e7efb52c4992c28dd9dce7d23a5e2d243c52998ad9c09d588e40e1f65b32ce3a6c6b40324e50ee2a6452cbd917e10203010001\n",
            "-----\n",
            "recipient: 30819f300d06092a864886f70d010101050003818d00308189028181009e3af488a71b3e967f58754c3dcf2b7e36acc45f6332d6504b7ef48d30b6cea122a4ef4bbfdbbc58e48eeba63b5a418e0bf739eb2c40008249fa07ad08e3d8e67fac63f9c28964be4aac299fac705edf248196d123649f96d2fbc72f5ac3d9860a400f766b8adc60876d5ea308751888459ebfab44f9eed1be7cdfeb995f887b0203010001\n",
            "-----\n",
            "value: 17.0\n",
            "-----\n",
            "time: 2023-11-24 10:51:30.551283\n",
            "-----\n",
            "--------------\n",
            "sender: 30819f300d06092a864886f70d010101050003818d00308189028181009e3af488a71b3e967f58754c3dcf2b7e36acc45f6332d6504b7ef48d30b6cea122a4ef4bbfdbbc58e48eeba63b5a418e0bf739eb2c40008249fa07ad08e3d8e67fac63f9c28964be4aac299fac705edf248196d123649f96d2fbc72f5ac3d9860a400f766b8adc60876d5ea308751888459ebfab44f9eed1be7cdfeb995f887b0203010001\n",
            "-----\n",
            "recipient: 30819f300d06092a864886f70d010101050003818d0030818902818100944895dfa3c3074c349eececab549b5bfd53db4010e9d40bcb0b73f5858a19a9d23eb6a4b8d86d5d149933bd361f3348fede15e6d2f2fe6b54bd431be447c0df897ec7d2fe473a7330d1c8437853c20953d10efae6f739749ea09b3a9cc39691ef240875ca8c0c842fb4492c3b0b53b93859826675accb0675528d1bda1cd6c30203010001\n",
            "-----\n",
            "value: 8.0\n",
            "-----\n",
            "time: 2023-11-24 10:51:30.553184\n",
            "-----\n",
            "--------------\n",
            "sender: 30819f300d06092a864886f70d010101050003818d0030818902818100c27888b48e9987e91d1f639ef82d408948496893d770e4988ed56dc84876b8d0df7eea80ff7d4b3de8b7ceb2b1ed335f01e11fe4833494dacea0c031620d85ea234ce88cd26727a180d95236a3f76e173641768f6b6052b3c76e6fdbfbb8017b50ffe11c22c7dca3284a974abb1f8b1def5c1f988c6afb533f82136e8f1ff6dd0203010001\n",
            "-----\n",
            "recipient: 30819f300d06092a864886f70d010101050003818d00308189028181009e3af488a71b3e967f58754c3dcf2b7e36acc45f6332d6504b7ef48d30b6cea122a4ef4bbfdbbc58e48eeba63b5a418e0bf739eb2c40008249fa07ad08e3d8e67fac63f9c28964be4aac299fac705edf248196d123649f96d2fbc72f5ac3d9860a400f766b8adc60876d5ea308751888459ebfab44f9eed1be7cdfeb995f887b0203010001\n",
            "-----\n",
            "value: 3.0\n",
            "-----\n",
            "time: 2023-11-24 10:51:30.554814\n",
            "-----\n",
            "--------------\n",
            "sender: 30819f300d06092a864886f70d010101050003818d0030818902818100c27888b48e9987e91d1f639ef82d408948496893d770e4988ed56dc84876b8d0df7eea80ff7d4b3de8b7ceb2b1ed335f01e11fe4833494dacea0c031620d85ea234ce88cd26727a180d95236a3f76e173641768f6b6052b3c76e6fdbfbb8017b50ffe11c22c7dca3284a974abb1f8b1def5c1f988c6afb533f82136e8f1ff6dd0203010001\n",
            "-----\n",
            "recipient: 30819f300d06092a864886f70d010101050003818d0030818902818100944895dfa3c3074c349eececab549b5bfd53db4010e9d40bcb0b73f5858a19a9d23eb6a4b8d86d5d149933bd361f3348fede15e6d2f2fe6b54bd431be447c0df897ec7d2fe473a7330d1c8437853c20953d10efae6f739749ea09b3a9cc39691ef240875ca8c0c842fb4492c3b0b53b93859826675accb0675528d1bda1cd6c30203010001\n",
            "-----\n",
            "value: 5.0\n",
            "-----\n",
            "time: 2023-11-24 10:51:30.556439\n",
            "-----\n",
            "--------------\n",
            "sender: 30819f300d06092a864886f70d010101050003818d0030818902818100c03085d806303a673f5af2706475c7b390dd44398d6dd5199de1b7c745f4fcbb95d5856f2d03b54fca236c89af442fc9ee9727c254bca07b911457cf1332928658fd8b1d7f0d767e444150d43306097cad16e7efb52c4992c28dd9dce7d23a5e2d243c52998ad9c09d588e40e1f65b32ce3a6c6b40324e50ee2a6452cbd917e10203010001\n",
            "-----\n",
            "recipient: 30819f300d06092a864886f70d010101050003818d0030818902818100944895dfa3c3074c349eececab549b5bfd53db4010e9d40bcb0b73f5858a19a9d23eb6a4b8d86d5d149933bd361f3348fede15e6d2f2fe6b54bd431be447c0df897ec7d2fe473a7330d1c8437853c20953d10efae6f739749ea09b3a9cc39691ef240875ca8c0c842fb4492c3b0b53b93859826675accb0675528d1bda1cd6c30203010001\n",
            "-----\n",
            "value: 9.0\n",
            "-----\n",
            "time: 2023-11-24 10:51:30.558039\n",
            "-----\n",
            "--------------\n"
          ]
        }
      ]
    },
    {
      "cell_type": "code",
      "source": [
        "class Block:\n",
        "\n",
        "    def __init__(self):\n",
        "        self.verified_transaction=[]\n",
        "        self.previous_block_hash=\"\"\n",
        "        self.Nonce=\"\""
      ],
      "metadata": {
        "id": "B3sJgnxf-qVU"
      },
      "execution_count": null,
      "outputs": []
    },
    {
      "cell_type": "code",
      "source": [
        "# Create a Client object\n",
        "Mahee=Client()\n",
        "\n",
        "# Create a transaction Object\n",
        "t0 = Transaction (\"Genesis\",Mahee.identity,500.0)\n",
        "\n",
        "# Create a block Object\n",
        "# Here we create a Genises Block\n",
        "block0=Block()\n",
        "block0.verified_transaction.append(t0)\n",
        "block0.previous_block_hash=None\n",
        "Nonce=None\n",
        "\n",
        "# Hash the entire block\n",
        "digest=hash(block0)\n",
        "\n",
        "# Assign the hashed value to variable last_block_hash\n",
        "last_block_hash=digest"
      ],
      "metadata": {
        "id": "leSaoZd0-wgk"
      },
      "execution_count": null,
      "outputs": []
    },
    {
      "cell_type": "code",
      "source": [
        "# TPCoins store the Blocks\n",
        "TPCoins=[]\n",
        "\n",
        "def dump_blockchain (self):\n",
        "    print (\"Number of blocks in the chain: \" + str(len (self)))\n",
        "\n",
        "    for x in range (len(TPCoins)): # loop through the TPCoins array\n",
        "\n",
        "        # assign each block in TPCoins to a temp variable block_temp\n",
        "        block_temp = TPCoins[x]\n",
        "        print (\"block # \" + str(x))\n",
        "\n",
        "        # display the transactions inside the block\n",
        "        for transaction in block_temp.verified_transaction:\n",
        "            display_transaction (transaction)\n",
        "            print ('--------------')\n",
        "\n",
        "        print ('=====================================')"
      ],
      "metadata": {
        "id": "6hI7mZRh-1Rk"
      },
      "execution_count": null,
      "outputs": []
    },
    {
      "cell_type": "code",
      "source": [
        "# Append the Genesis block to TPCoins\n",
        "TPCoins.append(block0)\n",
        "dump_blockchain(TPCoins)"
      ],
      "metadata": {
        "id": "3j3Ag6Tn-6av",
        "colab": {
          "base_uri": "https://localhost:8080/"
        },
        "outputId": "f814c8c7-7403-469e-d112-5c2a6fa78f3d"
      },
      "execution_count": null,
      "outputs": [
        {
          "output_type": "stream",
          "name": "stdout",
          "text": [
            "Number of blocks in the chain: 1\n",
            "block # 0\n",
            "sender: Genesis\n",
            "-----\n",
            "recipient: 30819f300d06092a864886f70d010101050003818d0030818902818100b4659fc384df927dfd3be2e5dea30a8351ae1883c41d2c317a7c4c8e6a44683ddb86b41b57eb5408ed3543af716c483c63cc114f04474da0f3d5752abf02af3dc2d80820988e72c972267c2f457c6b23eb2e7dd04e4553a924827ef07f0623408450f6c2197a638760901a3efce8cfa27ae196e8bb6dbbaebbe7a8226fc1a8f70203010001\n",
            "-----\n",
            "value: 500.0\n",
            "-----\n",
            "time: 2023-11-24 10:51:40.651405\n",
            "-----\n",
            "--------------\n",
            "=====================================\n"
          ]
        }
      ]
    },
    {
      "cell_type": "code",
      "source": [
        "#Mining process\n",
        "#The sha256 function takes a message as a parameter, encodes it to ASCII, generates a hexadecimal digest and returns\n",
        "#the value to the caller.\n",
        "\n",
        "def sha256(message):\n",
        "    return hashlib.sha256(message.encode('ascii')).hexdigest()"
      ],
      "metadata": {
        "id": "gyXoTjlo-_As"
      },
      "execution_count": null,
      "outputs": []
    },
    {
      "cell_type": "code",
      "source": [
        "# Develop a Mine function\n",
        "# Here it tries to find the solution to that one NOnce that will satisfy the hash for the block\n",
        "# We send the block and the difficulty level as the parameters to the mine function.\n",
        "\n",
        "def mine(message,difficulty=1):\n",
        "    #The difficulty level needs to be greater or equal to 1, we ensure this with the following assert statement:\n",
        "    assert difficulty >= 1\n",
        "\n",
        "    #We create a prefix variable using the set difficulty level.\n",
        "    prefix = '1' * difficulty\n",
        "\n",
        "    for i in range(1000):\n",
        "        digest = sha256(str(hash(message)) + str(i))\n",
        "\n",
        "        if digest.startswith(prefix):\n",
        "            print (\"after \" + str(i) + \" iterations found nonce: \"+ digest)\n",
        "            return digest"
      ],
      "metadata": {
        "id": "aCKLaSyh_Cmr"
      },
      "execution_count": null,
      "outputs": []
    },
    {
      "cell_type": "code",
      "source": [
        "# Test the mine function\n",
        "mine(\"test message\", 2)"
      ],
      "metadata": {
        "id": "ihQR_6Ur_Gdj",
        "colab": {
          "base_uri": "https://localhost:8080/",
          "height": 54
        },
        "outputId": "16aea518-8368-4f1e-dd14-52f0ef11c08c"
      },
      "execution_count": null,
      "outputs": [
        {
          "output_type": "stream",
          "name": "stdout",
          "text": [
            "after 130 iterations found nonce: 115d2a59ad3258a401f1c3bc2d3add9788e988e734692cb63caef36a48350415\n"
          ]
        },
        {
          "output_type": "execute_result",
          "data": {
            "text/plain": [
              "'115d2a59ad3258a401f1c3bc2d3add9788e988e734692cb63caef36a48350415'"
            ],
            "application/vnd.google.colaboratory.intrinsic+json": {
              "type": "string"
            }
          },
          "metadata": {},
          "execution_count": 19
        }
      ]
    },
    {
      "cell_type": "code",
      "source": [
        "#Miner 2 adds a block\n",
        "last_transaction_index=0\n",
        "block = Block()\n",
        "\n",
        "# append 3 transactions to block\n",
        "for i in range(3):\n",
        "    temp_transaction = transactions[last_transaction_index]\n",
        "    # validate transaction\n",
        "    # if valid\n",
        "    block.verified_transaction.append (temp_transaction)\n",
        "    last_transaction_index += 1\n",
        "\n",
        "# Assign the value of last_block_hash to the previous_block_hash attribute in the block\n",
        "block.previous_block_hash = last_block_hash\n",
        "\n",
        "# Send the block which has (Transactions + previous_bloc_hash) for the mine function\n",
        "block.Nonce = mine (block, 2)\n",
        "\n",
        "TPCoins.append (block)\n",
        "\n",
        "# Hased the currrent block and store its hashed value in the last_block_hash variable\n",
        "digest = hash (block)\n",
        "#print(\"Block hash of the current Block \"+ str(digest))\n",
        "last_block_hash = digest"
      ],
      "metadata": {
        "id": "wpXWXJPo_KTr",
        "colab": {
          "base_uri": "https://localhost:8080/"
        },
        "outputId": "a8a3dd52-d251-45a2-ce76-ce7301117c87"
      },
      "execution_count": null,
      "outputs": [
        {
          "output_type": "stream",
          "name": "stdout",
          "text": [
            "after 73 iterations found nonce: 114004aeca46bebc9dddf6ff37fd84990e540290686075f5848197d374f37e75\n"
          ]
        }
      ]
    },
    {
      "cell_type": "code",
      "source": [
        "dump_blockchain(TPCoins)"
      ],
      "metadata": {
        "id": "wwd_Mfwg_Qrz",
        "colab": {
          "base_uri": "https://localhost:8080/"
        },
        "outputId": "6832f19a-2d1e-44ef-dead-2838c3fffdf2"
      },
      "execution_count": null,
      "outputs": [
        {
          "output_type": "stream",
          "name": "stdout",
          "text": [
            "Number of blocks in the chain: 2\n",
            "block # 0\n",
            "sender: Genesis\n",
            "-----\n",
            "recipient: 30819f300d06092a864886f70d010101050003818d0030818902818100b4659fc384df927dfd3be2e5dea30a8351ae1883c41d2c317a7c4c8e6a44683ddb86b41b57eb5408ed3543af716c483c63cc114f04474da0f3d5752abf02af3dc2d80820988e72c972267c2f457c6b23eb2e7dd04e4553a924827ef07f0623408450f6c2197a638760901a3efce8cfa27ae196e8bb6dbbaebbe7a8226fc1a8f70203010001\n",
            "-----\n",
            "value: 500.0\n",
            "-----\n",
            "time: 2023-11-24 10:51:40.651405\n",
            "-----\n",
            "--------------\n",
            "=====================================\n",
            "block # 1\n",
            "sender: 30819f300d06092a864886f70d010101050003818d0030818902818100c03085d806303a673f5af2706475c7b390dd44398d6dd5199de1b7c745f4fcbb95d5856f2d03b54fca236c89af442fc9ee9727c254bca07b911457cf1332928658fd8b1d7f0d767e444150d43306097cad16e7efb52c4992c28dd9dce7d23a5e2d243c52998ad9c09d588e40e1f65b32ce3a6c6b40324e50ee2a6452cbd917e10203010001\n",
            "-----\n",
            "recipient: 30819f300d06092a864886f70d010101050003818d00308189028181009e3af488a71b3e967f58754c3dcf2b7e36acc45f6332d6504b7ef48d30b6cea122a4ef4bbfdbbc58e48eeba63b5a418e0bf739eb2c40008249fa07ad08e3d8e67fac63f9c28964be4aac299fac705edf248196d123649f96d2fbc72f5ac3d9860a400f766b8adc60876d5ea308751888459ebfab44f9eed1be7cdfeb995f887b0203010001\n",
            "-----\n",
            "value: 17.0\n",
            "-----\n",
            "time: 2023-11-24 10:51:30.551283\n",
            "-----\n",
            "--------------\n",
            "sender: 30819f300d06092a864886f70d010101050003818d00308189028181009e3af488a71b3e967f58754c3dcf2b7e36acc45f6332d6504b7ef48d30b6cea122a4ef4bbfdbbc58e48eeba63b5a418e0bf739eb2c40008249fa07ad08e3d8e67fac63f9c28964be4aac299fac705edf248196d123649f96d2fbc72f5ac3d9860a400f766b8adc60876d5ea308751888459ebfab44f9eed1be7cdfeb995f887b0203010001\n",
            "-----\n",
            "recipient: 30819f300d06092a864886f70d010101050003818d0030818902818100944895dfa3c3074c349eececab549b5bfd53db4010e9d40bcb0b73f5858a19a9d23eb6a4b8d86d5d149933bd361f3348fede15e6d2f2fe6b54bd431be447c0df897ec7d2fe473a7330d1c8437853c20953d10efae6f739749ea09b3a9cc39691ef240875ca8c0c842fb4492c3b0b53b93859826675accb0675528d1bda1cd6c30203010001\n",
            "-----\n",
            "value: 8.0\n",
            "-----\n",
            "time: 2023-11-24 10:51:30.553184\n",
            "-----\n",
            "--------------\n",
            "sender: 30819f300d06092a864886f70d010101050003818d0030818902818100c27888b48e9987e91d1f639ef82d408948496893d770e4988ed56dc84876b8d0df7eea80ff7d4b3de8b7ceb2b1ed335f01e11fe4833494dacea0c031620d85ea234ce88cd26727a180d95236a3f76e173641768f6b6052b3c76e6fdbfbb8017b50ffe11c22c7dca3284a974abb1f8b1def5c1f988c6afb533f82136e8f1ff6dd0203010001\n",
            "-----\n",
            "recipient: 30819f300d06092a864886f70d010101050003818d00308189028181009e3af488a71b3e967f58754c3dcf2b7e36acc45f6332d6504b7ef48d30b6cea122a4ef4bbfdbbc58e48eeba63b5a418e0bf739eb2c40008249fa07ad08e3d8e67fac63f9c28964be4aac299fac705edf248196d123649f96d2fbc72f5ac3d9860a400f766b8adc60876d5ea308751888459ebfab44f9eed1be7cdfeb995f887b0203010001\n",
            "-----\n",
            "value: 3.0\n",
            "-----\n",
            "time: 2023-11-24 10:51:30.554814\n",
            "-----\n",
            "--------------\n",
            "=====================================\n"
          ]
        }
      ]
    }
  ]
}